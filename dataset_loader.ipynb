{
 "cells": [
  {
   "cell_type": "code",
   "execution_count": 8,
   "metadata": {},
   "outputs": [
    {
     "name": "stdout",
     "output_type": "stream",
     "text": [
      "Loaded 804 training images and 804 annotations.\n",
      "First image path: /Users/spgohil/Developer/Projects/ROAD-CONDITION-DETECTION/dataset/DatasetNinja_RDD2022_MIX/train/img/Japan_005850.jpg\n",
      "First annotation: {'description': '', 'tags': [{'id': 16552613, 'tagId': 29663, 'name': 'Japan', 'value': None, 'labelerLogin': 'inbox@datasetninja.com', 'createdAt': '2024-01-22T15:32:59.633Z', 'updatedAt': '2024-01-22T15:32:59.633Z'}], 'size': {'height': 600, 'width': 600}, 'objects': [{'id': 138956045, 'classId': 6512000, 'objectId': None, 'description': '', 'geometryType': 'rectangle', 'labelerLogin': 'inbox@datasetninja.com', 'createdAt': '2024-01-22T15:32:59.634Z', 'updatedAt': '2024-01-22T15:32:59.634Z', 'tags': [{'id': 104942971, 'tagId': 29666, 'name': 'detail', 'value': 'equal interval', 'labelerLogin': 'inbox@datasetninja.com', 'createdAt': '2024-01-22T15:32:59.634Z', 'updatedAt': '2024-01-22T15:32:59.634Z'}], 'classTitle': 'transverse crack', 'points': {'exterior': [[250, 352], [522, 388]], 'interior': []}}]}\n"
     ]
    }
   ],
   "source": [
    "import os\n",
    "import json\n",
    "from PIL import Image\n",
    "\n",
    "def load_train_data(dataset_path):\n",
    "    \"\"\"\n",
    "    Loads image paths and annotations from only the training dataset.\n",
    "\n",
    "    Args:\n",
    "        dataset_path (str): Path to the main dataset directory\n",
    "\n",
    "    Returns:\n",
    "        tuple: (image_paths, annotations) - Lists of image file paths and annotation data\n",
    "    \"\"\"\n",
    "    image_paths = []\n",
    "    annotations = []\n",
    "\n",
    "    # Only process train split\n",
    "    img_dir = os.path.join(dataset_path, 'train', 'img')\n",
    "    ann_dir = os.path.join(dataset_path, 'train', 'ann')\n",
    "\n",
    "    # Ensure directories exist\n",
    "    if not os.path.exists(img_dir) or not os.path.exists(ann_dir):\n",
    "        print(f\"Error: Directory {img_dir} or {ann_dir} not found.\")\n",
    "        return image_paths, annotations\n",
    "\n",
    "    for filename in os.listdir(img_dir):\n",
    "        if filename.endswith('.jpg'):\n",
    "            image_path = os.path.join(img_dir, filename)\n",
    "            annotation_path = os.path.join(ann_dir, filename + '.json')\n",
    "\n",
    "            if os.path.exists(annotation_path):\n",
    "                try:\n",
    "                    with open(annotation_path, 'r') as f:\n",
    "                        annotation = json.load(f)\n",
    "                    image_paths.append(image_path)\n",
    "                    annotations.append(annotation)\n",
    "                except json.JSONDecodeError:\n",
    "                    print(f\"Error: Invalid JSON in {annotation_path}\")\n",
    "            else:\n",
    "                print(f\"Warning: No annotation found for {filename}\")\n",
    "\n",
    "    return image_paths, annotations\n",
    "\n",
    "# Example Usage\n",
    "if __name__ == '__main__':\n",
    "    dataset_root = '/Users/spgohil/Developer/Projects/ROAD-CONDITION-DETECTION/dataset/DatasetNinja_RDD2022_MIX/'\n",
    "    \n",
    "    image_paths, annotations = load_train_data(dataset_root)\n",
    "    \n",
    "    print(f\"Loaded {len(image_paths)} training images and {len(annotations)} annotations.\")\n",
    "    \n",
    "    # Example: Print the first image path and its annotation\n",
    "    if image_paths:\n",
    "        print(f\"First image path: {image_paths[0]}\")\n",
    "        print(f\"First annotation: {annotations[0]}\")"
   ]
  },
  {
   "cell_type": "code",
   "execution_count": null,
   "metadata": {},
   "outputs": [],
   "source": []
  },
  {
   "cell_type": "markdown",
   "metadata": {},
   "source": [
    "class MyDataset(torchvision.datasets.ImageFolder):\n",
    "\n",
    "def __init__(self, train_folder_path='.', transform=None, target_transform=None):\n",
    "    super().__init__(train_folder_path, transform, target_transform)"
   ]
  }
 ],
 "metadata": {
  "kernelspec": {
   "display_name": "Python 3",
   "language": "python",
   "name": "python3"
  },
  "language_info": {
   "codemirror_mode": {
    "name": "ipython",
    "version": 3
   },
   "file_extension": ".py",
   "mimetype": "text/x-python",
   "name": "python",
   "nbconvert_exporter": "python",
   "pygments_lexer": "ipython3",
   "version": "3.12.1"
  }
 },
 "nbformat": 4,
 "nbformat_minor": 2
}
