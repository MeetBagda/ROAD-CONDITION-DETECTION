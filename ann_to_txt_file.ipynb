{
 "cells": [
  {
   "cell_type": "code",
   "execution_count": null,
   "metadata": {},
   "outputs": [],
   "source": [
    "import os\n",
    "import json\n",
    "import glob\n",
    "import torch\n",
    "from sklearn.model_selection import train_test_split\n",
    "import logging\n"
   ]
  },
  {
   "cell_type": "code",
   "execution_count": 2,
   "metadata": {},
   "outputs": [],
   "source": [
    "# Logs if there are errors in the conversion process\n",
    "logging.basicConfig(filename=\"conversion_errors.log\", level=logging.ERROR)"
   ]
  },
  {
   "cell_type": "code",
   "execution_count": 4,
   "metadata": {},
   "outputs": [
    {
     "name": "stdout",
     "output_type": "stream",
     "text": [
      "Using device: mps\n"
     ]
    }
   ],
   "source": [
    "# Use of computer configured gpu\n",
    "if torch.backends.mps.is_available():\n",
    "    device = \"mps\"\n",
    "elif torch.cuda.is_available():\n",
    "    device = \"cuda\"\n",
    "else:\n",
    "    device = \"cpu\"\n",
    "print(f\"Using device: {device}\")"
   ]
  },
  {
   "cell_type": "code",
   "execution_count": 5,
   "metadata": {},
   "outputs": [
    {
     "name": "stdout",
     "output_type": "stream",
     "text": [
      "Loaded class mapping: {'alligator crack': 0, 'block crack': 1, 'longitudinal crack': 2, 'other corruption': 3, 'pothole': 4, 'repair': 5, 'transverse crack': 6}\n"
     ]
    }
   ],
   "source": [
    "#Step 1: Load `meta.json` and Extract Class Mapping\n",
    "# Load class names from meta.json\n",
    "META_JSON_FILE = \"dataset/DatasetNinja_RDD2022_MIX/meta.json\"\n",
    "with open(META_JSON_FILE, \"r\") as meta_file:\n",
    "    meta_data = json.load(meta_file)\n",
    "\n",
    "class_map = {cls[\"title\"] : idx for idx, cls in enumerate(meta_data[\"classes\"])}\n",
    "print(\"Loaded class mapping:\", class_map)"
   ]
  },
  {
   "cell_type": "code",
   "execution_count": 6,
   "metadata": {},
   "outputs": [
    {
     "name": "stdout",
     "output_type": "stream",
     "text": [
      "{'D00': 0, 'D10': 1, 'D20': 2, 'D30': 3, 'D40': 4, 'D50': 5, 'D60': 6}\n"
     ]
    }
   ],
   "source": [
    "# Step 2: Create id for all class\n",
    "class_map = {\n",
    "    \"longitudinal crack\" : \"D00\",\n",
    "    \"transverse crack\" : \"D10\",\n",
    "    \"alligator crack\": \"D20\",\n",
    "    \"block crack\": \"D30\",\n",
    "    \"pothole\": \"D40\",\n",
    "    \"manhole cover\": \"D50\",\n",
    "    \"other corruption\": \"D60\"\n",
    "}\n",
    "class_id_map = {v: k for k, v in enumerate(class_map.values())}\n",
    "print(class_id_map)"
   ]
  },
  {
   "cell_type": "code",
   "execution_count": 13,
   "metadata": {},
   "outputs": [],
   "source": [
    "# Step 3: Process All JSON Files\n",
    "INPUT_JSON_DIR_TRAIN = \"datasets/yolo_dataset/train/annotations/\"\n",
    "INPUT_JSON_DIR_VAL = \"datasets/yolo_dataset/val/annotations/\"\n",
    "\n",
    "OUTPUT_DIR_TRAIN = \"datasets/yolo_dataset/train/labels/\"\n",
    "OUTPUT_DIR_VAL = \"datasets/yolo_dataset/val/labels/\"\n",
    "\n",
    "json_files_train = glob.glob(os.path.join(INPUT_JSON_DIR_TRAIN, \"*.json\"))\n",
    "json_files_test = glob.glob(os.path.join(INPUT_JSON_DIR_VAL, \"*.json\"))\n"
   ]
  },
  {
   "cell_type": "code",
   "execution_count": 9,
   "metadata": {},
   "outputs": [],
   "source": [
    "def convert_json_to_yolo(json_file, output_dir):\n",
    "    with open(json_file, 'r') as json_f:\n",
    "        data = json.load(json_f)\n",
    "    \n",
    "    image_width, image_height = data[\"size\"][\"width\"], data[\"size\"][\"height\"]\n",
    "    yolo_annotations = []\n",
    "   \n",
    " \n",
    "    for obj in data[\"objects\"]:\n",
    "        class_name = obj[\"classTitle\"]\n",
    "        if class_name not in class_map:\n",
    "            logging.error(f\"Class '{class_name}' not found in class mapping. Skipping object.\")\n",
    "            continue\n",
    "\n",
    "        class_id = class_id_map[class_map.get(class_name)]\n",
    "       \n",
    "        points = obj[\"points\"][\"exterior\"]\n",
    "        x_min, y_min = points[0]\n",
    "        x_max, y_max = points[1]\n",
    "        \n",
    "        x_center = (x_min + x_max) / 2.0 / image_width\n",
    "        y_center = (y_min + y_max) / 2.0 / image_height\n",
    "        width = (x_max - x_min) / image_width\n",
    "        height = (y_max - y_min) / image_height\n",
    "\n",
    "       \n",
    "        yolo_annotations.append(f\"{class_id} {x_center:.6f} {y_center:.6f} {width:.6f} {height:.6f}\")\n",
    "\n",
    "    output_txt = os.path.join(output_dir, os.path.basename(json_file).replace(\".jpg.json\", \".txt\"))\n",
    "    os.makedirs(output_dir, exist_ok=True)\n",
    "    with open(output_txt, \"w\") as f:\n",
    "        f.write(\"\\n\".join(yolo_annotations))\n",
    "\n",
    "    return f\"Converted: {json_file} → {output_txt}\""
   ]
  },
  {
   "cell_type": "code",
   "execution_count": null,
   "metadata": {},
   "outputs": [
    {
     "name": "stdout",
     "output_type": "stream",
     "text": [
      "--------------------------------\n",
      "Processing Train Annotations...\n",
      "--------------------------------\n",
      "Processed Train Annotations...\n"
     ]
    }
   ],
   "source": [
    "# Converting train folder annotations\n",
    "print(\"--------------------------------\")\n",
    "print(\"Processing Train Annotations...\")\n",
    "for json_file in json_files_train:\n",
    "    convert_json_to_yolo(json_file, OUTPUT_DIR_TRAIN)\n",
    "print(\"--------------------------------\")\n",
    "print(\"Processed Train Annotations...\")"
   ]
  },
  {
   "cell_type": "code",
   "execution_count": 14,
   "metadata": {},
   "outputs": [
    {
     "name": "stdout",
     "output_type": "stream",
     "text": [
      "--------------------------------\n",
      "Processing Validation Annotations...\n",
      "--------------------------------\n",
      "Processed Validation Annotations...\n"
     ]
    }
   ],
   "source": [
    "# Converting Val folder annotations\n",
    "print(\"--------------------------------\")\n",
    "print(\"Processing Validation Annotations...\")\n",
    "for json_file in json_files_test:\n",
    "    convert_json_to_yolo(json_file, OUTPUT_DIR_VAL)\n",
    "print(\"--------------------------------\")\n",
    "print(\"Processed Validation Annotations...\")"
   ]
  },
  {
   "cell_type": "code",
   "execution_count": null,
   "metadata": {},
   "outputs": [],
   "source": []
  }
 ],
 "metadata": {
  "kernelspec": {
   "display_name": "Python 3",
   "language": "python",
   "name": "python3"
  },
  "language_info": {
   "codemirror_mode": {
    "name": "ipython",
    "version": 3
   },
   "file_extension": ".py",
   "mimetype": "text/x-python",
   "name": "python",
   "nbconvert_exporter": "python",
   "pygments_lexer": "ipython3",
   "version": "3.12.1"
  }
 },
 "nbformat": 4,
 "nbformat_minor": 2
}
